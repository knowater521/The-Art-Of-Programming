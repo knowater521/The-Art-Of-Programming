{
 "cells": [
  {
   "cell_type": "code",
   "execution_count": 9,
   "metadata": {
    "collapsed": true,
    "deletable": true,
    "editable": true
   },
   "outputs": [],
   "source": [
    "def MinKnum(num_list, k):\n",
    "    minK = num_list[:k]\n",
    "    maxNum = max(minK)\n",
    "    maxNumIndex = num_list.index(maxNum)\n",
    "    for num in num_list[k:]:\n",
    "        if num<maxNum:\n",
    "            minK[maxNumIndex] = num\n",
    "            maxNum = max(minK)\n",
    "        else:\n",
    "            pass\n",
    "    return minK\n",
    "    "
   ]
  },
  {
   "cell_type": "code",
   "execution_count": 10,
   "metadata": {
    "collapsed": false,
    "deletable": true,
    "editable": true
   },
   "outputs": [
    {
     "name": "stdout",
     "output_type": "stream",
     "text": [
      "[1, 3, 0]\n"
     ]
    }
   ],
   "source": [
    "a=[1,3,5,2,0]\n",
    "minK = MinKnum(a, 3)\n",
    "print(minK)"
   ]
  },
  {
   "cell_type": "code",
   "execution_count": 18,
   "metadata": {
    "collapsed": false,
    "deletable": true,
    "editable": true
   },
   "outputs": [],
   "source": [
    "def TwoSum(list_num, k):\n",
    "    \n",
    "    d = {val: idx for idx, val in enumerate(list_num)}\n",
    "    resulttotal = []\n",
    "    resultidxtotal = []\n",
    "    for item in list_num:\n",
    "        if k-item in d:\n",
    "            result = (item, k-item)\n",
    "            resultidx = (d[item], d[k-item])\n",
    "            resulttotal.append(result)\n",
    "            resultidxtotal.append(resultidx)\n",
    "            #break\n",
    "        else:\n",
    "            pass\n",
    "    return resulttotal, resultidxtotal\n",
    "        \n",
    "    \n",
    "        \n",
    "        \n",
    "    "
   ]
  },
  {
   "cell_type": "code",
   "execution_count": 19,
   "metadata": {
    "collapsed": true,
    "deletable": true,
    "editable": true
   },
   "outputs": [],
   "source": [
    "b = [1,2,4,7,11,15,13]\n",
    "k=15\n",
    "val,idx = TwoSum(b,k)"
   ]
  },
  {
   "cell_type": "code",
   "execution_count": 20,
   "metadata": {
    "collapsed": false,
    "deletable": true,
    "editable": true
   },
   "outputs": [
    {
     "name": "stdout",
     "output_type": "stream",
     "text": [
      "[(2, 13), (4, 11), (11, 4), (13, 2)]\n"
     ]
    }
   ],
   "source": [
    "print(val)"
   ]
  },
  {
   "cell_type": "code",
   "execution_count": 21,
   "metadata": {
    "collapsed": false,
    "deletable": true,
    "editable": true
   },
   "outputs": [
    {
     "name": "stdout",
     "output_type": "stream",
     "text": [
      "[(1, 6), (2, 4), (4, 2), (6, 1)]\n"
     ]
    }
   ],
   "source": [
    "print(idx)"
   ]
  },
  {
   "cell_type": "code",
   "execution_count": 14,
   "metadata": {
    "collapsed": true,
    "deletable": true,
    "editable": true
   },
   "outputs": [],
   "source": [
    "def maxsubsum(list1):\n",
    "    maxsum = 0\n",
    "    thissum = 0\n",
    "    num = []\n",
    "    for i in range(len(list1)):\n",
    "        thissum += list1[i]\n",
    "        if thissum>maxsum:\n",
    "            maxsum = thissum\n",
    "            #print(i)\n",
    "            \n",
    "        elif thissum<0:\n",
    "            thissum = 0\n",
    "            print(i)\n",
    "\n",
    "    return maxsum,num"
   ]
  },
  {
   "cell_type": "code",
   "execution_count": 15,
   "metadata": {
    "collapsed": false,
    "deletable": true,
    "editable": true
   },
   "outputs": [
    {
     "name": "stdout",
     "output_type": "stream",
     "text": [
      "2\n",
      "3\n",
      "5\n",
      "7\n",
      "8\n"
     ]
    }
   ],
   "source": [
    "a=[2,4,-7,5,2,-1,2,-4,3]\n",
    "b,c = maxsubsum(a)\n",
    "#a1=[1,-2,3,10,-4,7,2,-5]\n",
    "#b1,c1 = maxsubsum(a1)"
   ]
  },
  {
   "cell_type": "code",
   "execution_count": 11,
   "metadata": {
    "collapsed": false,
    "deletable": true,
    "editable": true
   },
   "outputs": [
    {
     "data": {
      "text/plain": [
       "18"
      ]
     },
     "execution_count": 11,
     "metadata": {},
     "output_type": "execute_result"
    }
   ],
   "source": [
    "b1"
   ]
  },
  {
   "cell_type": "code",
   "execution_count": 7,
   "metadata": {
    "collapsed": false,
    "deletable": true,
    "editable": true
   },
   "outputs": [
    {
     "data": {
      "text/plain": [
       "[2, 4, 2, 2]"
      ]
     },
     "execution_count": 7,
     "metadata": {},
     "output_type": "execute_result"
    }
   ],
   "source": [
    "c"
   ]
  },
  {
   "cell_type": "code",
   "execution_count": 22,
   "metadata": {
    "collapsed": true,
    "deletable": true,
    "editable": true
   },
   "outputs": [],
   "source": [
    "def climbstairs(n):\n",
    "    a,b =1,1\n",
    "    if n<2:\n",
    "        return 1\n",
    "    else:\n",
    "        for i in range(2, n+1):\n",
    "            c=a+b\n",
    "            a=b\n",
    "            b=c\n",
    "    return c\n"
   ]
  },
  {
   "cell_type": "code",
   "execution_count": 23,
   "metadata": {
    "collapsed": true,
    "deletable": true,
    "editable": true
   },
   "outputs": [],
   "source": [
    "d=climbstairs(5)"
   ]
  },
  {
   "cell_type": "code",
   "execution_count": 2,
   "metadata": {
    "collapsed": false,
    "deletable": true,
    "editable": true
   },
   "outputs": [
    {
     "data": {
      "text/plain": [
       "0"
      ]
     },
     "execution_count": 2,
     "metadata": {},
     "output_type": "execute_result"
    }
   ],
   "source": [
    "4%2\n"
   ]
  },
  {
   "cell_type": "code",
   "execution_count": 9,
   "metadata": {
    "collapsed": true,
    "deletable": true,
    "editable": true
   },
   "outputs": [],
   "source": [
    "def OddEvenSort(list1):\n",
    "    n = len(list1)\n",
    "    i = 0\n",
    "    j = n-1\n",
    "    while(i<=j):\n",
    "        if list1[i]%2==0 and list1[j]%2 == 1:\n",
    "            temp1 = list1[j]\n",
    "            temp2 = list1[i]\n",
    "            list1[i] = temp1\n",
    "            list1[j] = temp2\n",
    "            i+=1\n",
    "            j-=1\n",
    "        elif list1[i]%2 == 1:\n",
    "            i+=1\n",
    "        elif list1[j]%2 ==0:\n",
    "            j-=1\n",
    "        else:\n",
    "            i+=1\n",
    "            j-=1\n",
    "        \n",
    "        \n",
    "    return list1\n",
    "\n",
    "            \n",
    "            \n",
    "        \n",
    "    "
   ]
  },
  {
   "cell_type": "code",
   "execution_count": 10,
   "metadata": {
    "collapsed": false,
    "deletable": true,
    "editable": true
   },
   "outputs": [
    {
     "name": "stdout",
     "output_type": "stream",
     "text": [
      "[5, 3, 7, 1, 8, 2, 6, 4]\n"
     ]
    }
   ],
   "source": [
    "list1 = [2,8,7,1,3,5,6,4]\n",
    "a= OddEvenSort(list1)\n",
    "print(a)"
   ]
  },
  {
   "cell_type": "code",
   "execution_count": 67,
   "metadata": {
    "collapsed": true,
    "deletable": true,
    "editable": true
   },
   "outputs": [],
   "source": [
    "#荷兰国旗问题\n",
    "def swap(list1,a,b):\n",
    "    t=list1[a]\n",
    "    list1[a]=list1[b]\n",
    "    list1[b]=t\n",
    "    return list1\n",
    "    \n",
    "def three_partition(list1):\n",
    "    curr=0\n",
    "    begin=0\n",
    "    end=len(list1)-1\n",
    "    #print(end)\n",
    "    while(curr<=end):\n",
    "        #print(curr)\n",
    "        if list1[curr]=='R':\n",
    "            list1 = swap(list1, begin, curr)\n",
    "            #print(list1)\n",
    "            curr+=1\n",
    "            begin+=1\n",
    "        elif list1[curr]=='G':\n",
    "            curr+=1\n",
    "        else:\n",
    "            list1 = swap(list1, curr, end)\n",
    "            #print(list1)\n",
    "            end -= 1\n",
    "    return list1\n",
    "        \n",
    "        "
   ]
  },
  {
   "cell_type": "code",
   "execution_count": 51,
   "metadata": {
    "collapsed": false,
    "deletable": true,
    "editable": true
   },
   "outputs": [
    {
     "name": "stdout",
     "output_type": "stream",
     "text": [
      "0\n",
      "1\n",
      "2\n",
      "2\n",
      "3\n",
      "4\n",
      "5\n",
      "5\n",
      "6\n",
      "6\n",
      "6\n",
      "6\n",
      "7\n",
      "[0, 0, 0, 0, 1, 1, 1, 1, 2, 2, 2, 2, 2]\n"
     ]
    }
   ],
   "source": [
    "list1=[0,0,2,0,1,2,2,1,0,2,2,1,1]\n",
    "a=three_partition(list1)\n",
    "print(a)\n"
   ]
  },
  {
   "cell_type": "code",
   "execution_count": 68,
   "metadata": {
    "collapsed": false,
    "deletable": true,
    "editable": true
   },
   "outputs": [
    {
     "name": "stdout",
     "output_type": "stream",
     "text": [
      "['R', 'R', 'G', 'G', 'G', 'R', 'R', 'B', 'B', 'B', 'B', 'G', 'G', 'R', 'R']\n"
     ]
    }
   ],
   "source": [
    "list2='RRGGGRRBBBBGGRR'\n",
    "list2 = list(list2)\n",
    "print(list2)"
   ]
  },
  {
   "cell_type": "code",
   "execution_count": 69,
   "metadata": {
    "collapsed": false,
    "deletable": true,
    "editable": true
   },
   "outputs": [],
   "source": [
    "a=three_partition(list2)"
   ]
  },
  {
   "cell_type": "code",
   "execution_count": 71,
   "metadata": {
    "collapsed": false,
    "deletable": true,
    "editable": true
   },
   "outputs": [
    {
     "name": "stdout",
     "output_type": "stream",
     "text": [
      "RRRRRRGGGGGBBBB\n"
     ]
    }
   ],
   "source": [
    "print(''.join(a))"
   ]
  },
  {
   "cell_type": "code",
   "execution_count": 1,
   "metadata": {
    "collapsed": true,
    "deletable": true,
    "editable": true
   },
   "outputs": [],
   "source": [
    "def BinarySearch(num,list1):\n",
    "    left = 0\n",
    "    right = len(list1)-1\n",
    "    while(left<right):\n",
    "        middle = int((left + right)/2)\n",
    "        if num>list1[middle]:\n",
    "            left = left+middle+1\n",
    "        elif num<list1[middle]:\n",
    "            right = right-middle-1\n",
    "        else:\n",
    "            break\n",
    "    return middle\n",
    "    "
   ]
  },
  {
   "cell_type": "code",
   "execution_count": 2,
   "metadata": {
    "collapsed": true
   },
   "outputs": [],
   "source": [
    "a=[1,3,5,6,7]\n",
    "middle = BinarySearch(6, a)"
   ]
  },
  {
   "cell_type": "code",
   "execution_count": 3,
   "metadata": {
    "collapsed": false
   },
   "outputs": [
    {
     "name": "stdout",
     "output_type": "stream",
     "text": [
      "3\n"
     ]
    }
   ],
   "source": [
    "print(middle)"
   ]
  },
  {
   "cell_type": "code",
   "execution_count": null,
   "metadata": {
    "collapsed": true
   },
   "outputs": [],
   "source": []
  }
 ],
 "metadata": {
  "kernelspec": {
   "display_name": "Python [Root]",
   "language": "python",
   "name": "Python [Root]"
  },
  "language_info": {
   "codemirror_mode": {
    "name": "ipython",
    "version": 3
   },
   "file_extension": ".py",
   "mimetype": "text/x-python",
   "name": "python",
   "nbconvert_exporter": "python",
   "pygments_lexer": "ipython3",
   "version": "3.5.2"
  }
 },
 "nbformat": 4,
 "nbformat_minor": 2
}
