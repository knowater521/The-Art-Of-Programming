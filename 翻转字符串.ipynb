{
 "cells": [
  {
   "cell_type": "markdown",
   "metadata": {},
   "source": [
    "1.1 旋转字符串\n",
    "\n",
    "\n",
    "题目描述\n",
    "给定一个字符串，要求把字符串前面的若干个字符移动到字符串的尾部，如把字符串“abcdef”前面的2个字符'a'和'b'移动到字符串的尾部，使得原字符串变成字符串“cdefab”。请写一个函数完成此功能，要求对长度为n的字符串操作的时间复杂度为 O(n)，空间复杂度为 O(1)。"
   ]
  },
  {
   "cell_type": "code",
   "execution_count": 50,
   "metadata": {
    "collapsed": true
   },
   "outputs": [],
   "source": [
    "#三步反转法\n",
    "def ReverseString(chars, start, end):\n",
    "    chars = list(chars)\n",
    "    while(start < end):\n",
    "        temp = chars[start]\n",
    "        chars[start] = chars[end]\n",
    "        start += 1\n",
    "        chars[end] = temp\n",
    "        end = end - 1\n",
    "    newchars = ''.join(chars)    \n",
    "    #newchars = ' '.join(chars)\n",
    "    return newchars\n",
    "\n",
    "\n",
    "def LeftRotateString(chars, n, m):\n",
    "    chars = ReverseString(chars, 0, m-1)\n",
    "    chars = ReverseString(chars, m, n-1)\n",
    "    chars = ReverseString(chars, 0, n-1)\n",
    "    return chars\n",
    "\n"
   ]
  },
  {
   "cell_type": "markdown",
   "metadata": {},
   "source": [
    "测试用例"
   ]
  },
  {
   "cell_type": "code",
   "execution_count": 22,
   "metadata": {
    "collapsed": false
   },
   "outputs": [
    {
     "name": "stdout",
     "output_type": "stream",
     "text": [
      "cdefab\n"
     ]
    }
   ],
   "source": [
    "testchar='abcdef'\n",
    "chars = LeftRotateString(testchar,6,2)\n",
    "print(chars)"
   ]
  },
  {
   "cell_type": "markdown",
   "metadata": {},
   "source": [
    "举一反三\n",
    "1、链表翻转。给出一个链表和一个数k，比如，链表为1→2→3→4→5→6，k=2，则翻转后2→1→6→5→4→3，若k=3，翻转后3→2→1→6→5→4，若k=4，翻转后4→3→2→1→6→5，用程序实现。\n",
    "\n",
    "2、编写程序，在原字符串中把字符串尾部的m个字符移动到字符串的头部，要求：长度为n的字符串操作时间复杂度为O(n)，空间复杂度为O(1)。 例如，原字符串为”Ilovebaofeng”，m=7，输出结果为：”baofengIlove”。"
   ]
  },
  {
   "cell_type": "code",
   "execution_count": 28,
   "metadata": {
    "collapsed": true
   },
   "outputs": [],
   "source": [
    "\n",
    "\n",
    "def RightRotateString(chars, m):\n",
    "    n = len(chars)\n",
    "    chars = ReverseString(chars, n-m, n-1)\n",
    "    chars = ReverseString(chars, 0, n-m-1)\n",
    "    chars = ReverseString(chars, 0, n-1)\n",
    "    return chars"
   ]
  },
  {
   "cell_type": "code",
   "execution_count": 29,
   "metadata": {
    "collapsed": false
   },
   "outputs": [
    {
     "name": "stdout",
     "output_type": "stream",
     "text": [
      "baofengIlove\n"
     ]
    }
   ],
   "source": [
    "testchar='Ilovebaofeng'\n",
    "chars = RightRotateString(testchar,7)\n",
    "print(chars)"
   ]
  },
  {
   "cell_type": "markdown",
   "metadata": {},
   "source": [
    "3、单词翻转。输入一个英文句子，翻转句子中单词的顺序，但单词内字符的顺序不变，句子中单词以空格符隔开。为简单起见，标点符号和普通字母一样处理。例如，输入“I am a student.”，则输出“student. a am I”。"
   ]
  },
  {
   "cell_type": "code",
   "execution_count": 52,
   "metadata": {
    "collapsed": false
   },
   "outputs": [
    {
     "name": "stdout",
     "output_type": "stream",
     "text": [
      "student. a am I\n"
     ]
    }
   ],
   "source": [
    "sentence = 'I am a student.'\n",
    "a=sentence.split(' ')\n",
    "#print(a)\n",
    "end = len(a)-1\n",
    "b=ReverseString(a,0, end=end)\n",
    "print(b)"
   ]
  }
 ],
 "metadata": {
  "kernelspec": {
   "display_name": "Python [Root]",
   "language": "python",
   "name": "Python [Root]"
  },
  "language_info": {
   "codemirror_mode": {
    "name": "ipython",
    "version": 3
   },
   "file_extension": ".py",
   "mimetype": "text/x-python",
   "name": "python",
   "nbconvert_exporter": "python",
   "pygments_lexer": "ipython3",
   "version": "3.5.2"
  }
 },
 "nbformat": 4,
 "nbformat_minor": 2
}
