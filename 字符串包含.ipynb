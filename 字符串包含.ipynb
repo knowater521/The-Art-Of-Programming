{
 "cells": [
  {
   "cell_type": "markdown",
   "metadata": {},
   "source": [
    "字符串包含\n",
    "\n",
    "\n",
    "题目描述\n",
    "给定两个分别由字母组成的字符串A和字符串B，字符串B的长度比字符串A短。请问，如何最快地判断字符串B中所有字母是否都在字符串A里？\n",
    "\n",
    "为了简单起见，我们规定输入的字符串只包含大写英文字母，请实现函数bool StringContains(string &A, string &B)\n",
    "\n",
    "比如，如果是下面两个字符串：\n",
    "\n",
    "String 1：ABCD\n",
    "\n",
    "String 2：BAD\n",
    "\n",
    "答案是true，即String2里的字母在String1里也都有，或者说String2是String1的真子集。\n",
    "\n",
    "如果是下面两个字符串：\n",
    "\n",
    "String 1：ABCD\n",
    "\n",
    "String 2：BCE\n",
    "\n",
    "答案是false，因为字符串String2里的E字母不在字符串String1里。\n",
    "\n",
    "同时，如果string1：ABCD，string 2：AA，同样返回true。\n"
   ]
  },
  {
   "cell_type": "code",
   "execution_count": 10,
   "metadata": {
    "collapsed": false
   },
   "outputs": [
    {
     "data": {
      "text/plain": [
       "True"
      ]
     },
     "execution_count": 10,
     "metadata": {},
     "output_type": "execute_result"
    }
   ],
   "source": [
    "def StringContain(str1, str2):\n",
    "    a, b = len(str1), len(str2)\n",
    "    if b<a:\n",
    "        for item in str2:\n",
    "            if item not in str1:\n",
    "                return False\n",
    "                break\n",
    "        return True\n",
    "    \n",
    "StringContain('ABCD', 'AAD')    "
   ]
  },
  {
   "cell_type": "code",
   "execution_count": 37,
   "metadata": {
    "collapsed": false
   },
   "outputs": [],
   "source": [
    "#哈希表法\n",
    "def StringContainHash(str1, str2):\n",
    "    hash0 = 0\n",
    "    for i in range(len(str1)):\n",
    "        hash0 |= (1<<ord(str1[i])-ord('a'))\n",
    "        print(hash0)\n",
    "    for j in range(len(str2)):\n",
    "        if(hash0 & (1<<ord(str2[j])-ord('a')) ==0):\n",
    "            return False\n",
    "    return True\n",
    "\n",
    "#StringContainHash('ABC', 'ABBBC')  "
   ]
  },
  {
   "cell_type": "code",
   "execution_count": 20,
   "metadata": {
    "collapsed": false
   },
   "outputs": [
    {
     "data": {
      "text/plain": [
       "4"
      ]
     },
     "execution_count": 20,
     "metadata": {},
     "output_type": "execute_result"
    }
   ],
   "source": [
    "str1='ABCD'\n",
    "1<<ord(str1[2]) - ord('A')"
   ]
  },
  {
   "cell_type": "markdown",
   "metadata": {},
   "source": [
    "#兄弟如果两个字符串的字符一样，但是顺序不一样，被认为是兄弟字符串，比如bad和adb即为兄弟字符串，现提供一个字符串，如何在字典中迅速找到它的兄弟字符串，请描述数据结构和查询过程"
   ]
  },
  {
   "cell_type": "code",
   "execution_count": 42,
   "metadata": {
    "collapsed": false
   },
   "outputs": [
    {
     "name": "stdout",
     "output_type": "stream",
     "text": [
      "2\n",
      "3\n",
      "11\n",
      "2\n",
      "3\n",
      "11\n",
      "False\n"
     ]
    }
   ],
   "source": [
    "#二者互相包含且不相等\n",
    "a='bad'\n",
    "b='bad'\n",
    "if (StringContainHash(a,b) and StringContainHash(b,a))and (a!=b):\n",
    "    print(True)\n",
    "else:\n",
    "    print(False)\n",
    "    "
   ]
  }
 ],
 "metadata": {
  "kernelspec": {
   "display_name": "Python [Root]",
   "language": "python",
   "name": "Python [Root]"
  },
  "language_info": {
   "codemirror_mode": {
    "name": "ipython",
    "version": 3
   },
   "file_extension": ".py",
   "mimetype": "text/x-python",
   "name": "python",
   "nbconvert_exporter": "python",
   "pygments_lexer": "ipython3",
   "version": "3.5.2"
  }
 },
 "nbformat": 4,
 "nbformat_minor": 2
}
