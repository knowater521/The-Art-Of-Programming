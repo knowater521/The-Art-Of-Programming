{
 "cells": [
  {
   "cell_type": "markdown",
   "metadata": {},
   "source": [
    "最长回文子串\n",
    "\n",
    "\n",
    "题目描述\n",
    "给定一个字符串，求它的最长回文子串的长度。"
   ]
  },
  {
   "cell_type": "code",
   "execution_count": null,
   "metadata": {
    "collapsed": true
   },
   "outputs": [],
   "source": [
    "def LongestPalindrome(chars):\n",
    "    n = len(chars)\n",
    "    i,j = 0, 0\n",
    "    while(i<n):\n",
    "        while(j<=i and i+j<n):\n",
    "            if chars[i-j]!=s[i+j]:\n",
    "                break\n",
    "            \n",
    "            j+=1\n",
    "            c= j*2+1\n",
    "            \n",
    "        i+=1\n",
    "            \n",
    "            \n",
    "        "
   ]
  },
  {
   "cell_type": "code",
   "execution_count": 5,
   "metadata": {
    "collapsed": false
   },
   "outputs": [
    {
     "name": "stdout",
     "output_type": "stream",
     "text": [
      "c\n",
      "b\n",
      "bc\n",
      "cb\n",
      "c\n",
      "a\n",
      "ac\n",
      "ca\n",
      "b\n",
      "a\n",
      "ab\n",
      "ba\n",
      "6 ['abc', 'acb', 'bac', 'bca', 'cab', 'cba']\n"
     ]
    }
   ],
   "source": [
    "def str_sort(s=''):\n",
    "    if len(s) <= 1:\n",
    "        return [s]\n",
    "    str_list = []\n",
    "    for i in range(len(s)):\n",
    "        for j in str_sort(s[0:i] + s[i + 1:]):\n",
    "            print(j)\n",
    "            str_list.append(s[i] + j)\n",
    "            print()\n",
    "    return str_list\n",
    "\n",
    "\n",
    "str_list = str_sort('abc')\n",
    "print(len(str_list), str_list)"
   ]
  },
  {
   "cell_type": "code",
   "execution_count": 3,
   "metadata": {
    "collapsed": false
   },
   "outputs": [
    {
     "data": {
      "text/plain": [
       "'bc'"
      ]
     },
     "execution_count": 3,
     "metadata": {},
     "output_type": "execute_result"
    }
   ],
   "source": [
    "s='abc'\n",
    "i=0\n",
    "s[0:i] + s[i + 1:]"
   ]
  },
  {
   "cell_type": "code",
   "execution_count": 4,
   "metadata": {
    "collapsed": false
   },
   "outputs": [
    {
     "data": {
      "text/plain": [
       "''"
      ]
     },
     "execution_count": 4,
     "metadata": {},
     "output_type": "execute_result"
    }
   ],
   "source": [
    "s[0:i]\n"
   ]
  },
  {
   "cell_type": "code",
   "execution_count": null,
   "metadata": {
    "collapsed": true
   },
   "outputs": [],
   "source": []
  }
 ],
 "metadata": {
  "kernelspec": {
   "display_name": "Python [Root]",
   "language": "python",
   "name": "Python [Root]"
  },
  "language_info": {
   "codemirror_mode": {
    "name": "ipython",
    "version": 3
   },
   "file_extension": ".py",
   "mimetype": "text/x-python",
   "name": "python",
   "nbconvert_exporter": "python",
   "pygments_lexer": "ipython3",
   "version": "3.5.2"
  }
 },
 "nbformat": 4,
 "nbformat_minor": 2
}
